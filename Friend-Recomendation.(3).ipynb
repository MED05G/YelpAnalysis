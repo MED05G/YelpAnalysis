{
  "cells": [
    {
      "cell_type": "code",
      "execution_count": null,
      "metadata": {
        "autoscroll": "auto"
      },
      "outputs": [],
      "source": [
        "%pyspark\n",
        "from pyspark.sql import functions as F\n",
        "from pyspark.sql.window import Window\n",
        "from pyspark.ml.feature import BucketedRandomProjectionLSH\n",
        "\n",
        "# -----------------------------------------------------\n",
        "# 1. Generate Similar Users (LSH)\n",
        "# -----------------------------------------------------\n",
        "# Assuming you've already created user_factors DataFrame\n",
        "brp = BucketedRandomProjectionLSH(\n",
        "    inputCol=\"features\",\n",
        "    outputCol=\"hashes\",\n",
        "    bucketLength=2.0,\n",
        "    numHashTables=3\n",
        ")\n",
        "lsh_model = brp.fit(user_factors)\n",
        "\n",
        "# Calculate similar users (THIS CREATES similar_users)\n",
        "similar_users = lsh_model.approxSimilarityJoin(\n",
        "    user_factors, \n",
        "    user_factors, \n",
        "    threshold=1.5, \n",
        "    distCol=\"distance\"\n",
        ")\n",
        "\n",
        "# -----------------------------------------------------\n",
        "# 2. Create User Pairs\n",
        "# -----------------------------------------------------\n",
        "user_pairs = similar_users.select(\n",
        "    F.col(\"datasetA.id\").alias(\"user1\"),\n",
        "    F.col(\"datasetB.id\").alias(\"user2\"),\n",
        "    (1 - F.col(\"distance\")).alias(\"similarity\")\n",
        ").filter(F.col(\"similarity\") > 0.2)\n",
        "\n",
        "# -----------------------------------------------------\n",
        "# 3. Get Top Recommendations\n",
        "# -----------------------------------------------------\n",
        "window = Window.partitionBy(\"user1\").orderBy(F.desc(\"similarity\"))\n",
        "\n",
        "top_friend_recs = user_pairs \\\n",
        "    .withColumn(\"rank\", F.row_number().over(window)) \\\n",
        "    .filter(F.col(\"rank\") <= 5) \\\n",
        "    .drop(\"rank\")\n",
        "\n",
        "top_friend_recs.show(10)\n",
        "#By khadija"
      ]
    },
    {
      "cell_type": "code",
      "execution_count": null,
      "metadata": {
        "autoscroll": "auto"
      },
      "outputs": [],
      "source": [
        "\n",
        "%pyspark\n",
        "# Get users and their reviewed businesses\n",
        "user_reviews = review.select(\n",
        "    col(\"user_index\").alias(\"user\"),\n",
        "    col(\"business_index\").alias(\"business\")\n",
        ")\n",
        "\n",
        "# Find common businesses between recommended pairs\n",
        "common_businesses = top_friend_recs.join(\n",
        "    user_reviews.alias(\"u1\"), \n",
        "    col(\"user1\") == col(\"u1.user\")\n",
        ").join(\n",
        "    user_reviews.alias(\"u2\"), \n",
        "    (col(\"user2\") == col(\"u2.user\")) & \n",
        "    (col(\"u1.business\") == col(\"u2.business\"))\n",
        ").groupBy(\"user1\", \"user2\").agg(\n",
        "    count(\"*\").alias(\"shared_businesses\")\n",
        ")\n",
        "\n",
        "\n",
        "# Show users with the most shared interests\n",
        "common_businesses.orderBy(col(\"shared_businesses\").desc()).show()\n",
        "\n",
        "#BY AYA \n"
      ]
    },
    {
      "cell_type": "code",
      "execution_count": 11,
      "metadata": {
        "autoscroll": "auto"
      },
      "outputs": [],
      "source": [
        "%sh\n",
        "pip install pyarrow==14.0.0  # Install specific version"
      ]
    },
    {
      "cell_type": "code",
      "execution_count": null,
      "metadata": {
        "autoscroll": "auto"
      },
      "outputs": [],
      "source": [
        "%pyspark\n",
        "from pyspark.sql import functions as F\n",
        "from pyspark.sql.types import StringType\n",
        "import os\n",
        "\n",
        "def generate_explanation(user1_id, user2_id):\n",
        "    # Initialize OpenAI client inside UDF (fresh for each task)\n",
        "    from openai import OpenAI\n",
        "    client = OpenAI(\n",
        "        base_url=\"https://xiaoai.plus/v1\",\n",
        "        api_key=os.environ[\"OPENAI_API_KEY\"]  # Store key in Zeppelin environment\n",
        "    )\n",
        "    \n",
        "    # Fetch user data safely\n",
        "    user1_reviews = review.where(F.col(\"user_index\") == user1_id).limit(3).collect()\n",
        "    user2_reviews = review.where(F.col(\"user_index\") == user2_id).limit(3).collect()\n",
        "    \n",
        "    # Build prompt\n",
        "    prompt = f\"Explain why user {user1_id} and {user2_id} should connect based on shared interests.\"\n",
        "    \n",
        "    # API call with error handling\n",
        "    try:\n",
        "        response = client.chat.completions.create(\n",
        "            model=\"gpt-4o-mini\",\n",
        "            messages=[{\"role\": \"user\", \"content\": prompt}],\n",
        "            timeout=10  # Prevent hanging\n",
        "        )\n",
        "        return response.choices[0].message.content\n",
        "    except Exception as e:\n",
        "        return f\"Could not generate explanation: {str(e)}\"\n",
        "\n",
        "# Register UDF\n",
        "explanation_udf = F.udf(generate_explanation, StringType())\n",
        "\n",
        "\n",
        "#by AYA "
      ]
    },
    {
      "cell_type": "code",
      "execution_count": 13,
      "metadata": {
        "autoscroll": "auto"
      },
      "outputs": [],
      "source": [
        "%sh\n",
        "# Install networkx and matplotlib in the Spark/Python environment\n",
        "pip install networkx matplotlib"
      ]
    }
  ],
  "metadata": {
    "kernelspec": {
      "language": "scala",
      "name": "spark2-scala"
    },
    "language_info": {
      "codemirror_mode": "text/x-scala",
      "file_extension": ".scala",
      "mimetype": "text/x-scala",
      "name": "scala",
      "pygments_lexer": "scala"
    },
    "name": "Friend-Recomendation"
  },
  "nbformat": 4,
  "nbformat_minor": 2
}
